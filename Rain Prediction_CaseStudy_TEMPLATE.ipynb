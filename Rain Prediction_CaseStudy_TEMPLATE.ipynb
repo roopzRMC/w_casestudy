{
 "cells": [
  {
   "cell_type": "markdown",
   "id": "f5a4f2ce",
   "metadata": {
    "ExecuteTime": {
     "end_time": "2021-09-15T13:53:28.636490Z",
     "start_time": "2021-09-15T13:53:28.623628Z"
    }
   },
   "source": [
    "# Senior Measurement Exec / Data Scientist Case Study\n",
    "## Data\n",
    "\n",
    "We have collected an historical series of weather data collected from DarkSky API\n",
    "Data contains a series of features, some are categorical, some continuous.\n",
    "\n",
    "## Objective\n",
    "To assess the dataset from a data quality point of view and make recommendations on your findings\n",
    "\n",
    "## Tasks\n",
    "We expect the following steps to be \n",
    "- ingest the CSV file\n",
    "- perform various tests to determine the data quality for each of the variables (bearing in mind the different variable types)\n",
    "- draw plots as required to assess the dataframe\n",
    "\n",
    "\n",
    "# Duration\n",
    "It’s expected that this will take approximately 25 mins with 5 mins for time to make aural recommendations\n"
   ]
  },
  {
   "cell_type": "markdown",
   "id": "2aa64e70",
   "metadata": {},
   "source": [
    "## Loading basic libraries"
   ]
  },
  {
   "cell_type": "code",
   "execution_count": null,
   "id": "7ca34f36",
   "metadata": {
    "ExecuteTime": {
     "end_time": "2021-09-20T05:33:08.253383Z",
     "start_time": "2021-09-20T05:33:08.231529Z"
    }
   },
   "outputs": [],
   "source": [
    "import pandas as pd\n",
    "import numpy as np\n",
    "import matplotlib.pyplot as plt\n",
    "from datetime import timedelta\n",
    "from datetime import datetime\n"
   ]
  }
 ],
 "metadata": {
  "hide_input": false,
  "kernelspec": {
   "display_name": "Python 3 (ipykernel)",
   "language": "python",
   "name": "python3"
  },
  "language_info": {
   "codemirror_mode": {
    "name": "ipython",
    "version": 3
   },
   "file_extension": ".py",
   "mimetype": "text/x-python",
   "name": "python",
   "nbconvert_exporter": "python",
   "pygments_lexer": "ipython3",
   "version": "3.9.7"
  }
 },
 "nbformat": 4,
 "nbformat_minor": 5
}
